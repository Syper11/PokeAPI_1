{
 "cells": [
  {
   "cell_type": "markdown",
   "id": "7196054f",
   "metadata": {},
   "source": [
    "# Working with APIs"
   ]
  },
  {
   "cell_type": "markdown",
   "id": "0547b71e",
   "metadata": {},
   "source": [
    "API stands for Application programming interface<br>\n",
    "APIs are a way for applications to talk to eachother<br>\n",
    "In python we use the requests package to handle the connection<br>\n",
    "<small><strong>Note: It is requests with an s not request(this is a different package)</strong></small><br>\n",
    "Most API's communicate with data in the form of JSON<br>\n",
    "JSON stands for JavaScript Object Notation"
   ]
  },
  {
   "cell_type": "code",
   "execution_count": 2,
   "id": "4db9d154",
   "metadata": {},
   "outputs": [
    {
     "ename": "ModuleNotFoundError",
     "evalue": "No module named 'requests'",
     "output_type": "error",
     "traceback": [
      "\u001b[1;31m---------------------------------------------------------------------------\u001b[0m",
      "\u001b[1;31mModuleNotFoundError\u001b[0m                       Traceback (most recent call last)",
      "Cell \u001b[1;32mIn[2], line 2\u001b[0m\n\u001b[0;32m      1\u001b[0m \u001b[39m#import the packages we need:6:48\u001b[39;00m\n\u001b[1;32m----> 2\u001b[0m \u001b[39mimport\u001b[39;00m \u001b[39mrequests\u001b[39;00m\u001b[39m,\u001b[39m \u001b[39mjson\u001b[39;00m\n",
      "\u001b[1;31mModuleNotFoundError\u001b[0m: No module named 'requests'"
     ]
    }
   ],
   "source": [
    "#import the packages we need:6:48\n",
    "import requests, json"
   ]
  },
  {
   "cell_type": "markdown",
   "id": "e8c2ce51",
   "metadata": {},
   "source": [
    "We will be connecting to the Ergast F1 Racer API today:\n",
    "http://ergast.com/mrd/\n",
    "\n",
    "to view JSON data nicely in the Chrome browser install the extension JSONview"
   ]
  },
  {
   "cell_type": "code",
   "execution_count": null,
   "id": "52c440c6",
   "metadata": {},
   "outputs": [],
   "source": [
    "url = \"http://ergast.com/api/f1/2008/5/driverStandings.json\"\n"
   ]
  },
  {
   "cell_type": "code",
   "execution_count": null,
   "id": "f60c1b4a",
   "metadata": {},
   "outputs": [
    {
     "name": "stdout",
     "output_type": "stream",
     "text": [
      "<Response [200]>\n",
      "<class 'requests.models.Response'>\n"
     ]
    }
   ],
   "source": [
    "response = requests.get(url)\n",
    "print(response)\n",
    "print(type(response))"
   ]
  },
  {
   "cell_type": "code",
   "execution_count": null,
   "id": "7b63a204",
   "metadata": {},
   "outputs": [],
   "source": [
    "#response object 6:55\n",
    "response.ok\n",
    "if response.ok:\n",
    "    response.json()\n",
    "    data = response.json()\n",
    "#     print(data)\n",
    "    \n",
    "    "
   ]
  },
  {
   "cell_type": "code",
   "execution_count": null,
   "id": "c6d1fdaf",
   "metadata": {},
   "outputs": [],
   "source": [
    "#check and make sure we got a successful response from the API\n"
   ]
  },
  {
   "cell_type": "code",
   "execution_count": null,
   "id": "ed4d3256",
   "metadata": {},
   "outputs": [],
   "source": [
    "#view the response as a JSON\n"
   ]
  },
  {
   "cell_type": "code",
   "execution_count": null,
   "id": "92e6cd2c",
   "metadata": {},
   "outputs": [],
   "source": []
  },
  {
   "cell_type": "code",
   "execution_count": null,
   "id": "f074dfcf",
   "metadata": {},
   "outputs": [],
   "source": [
    "# We only want the Driver Standings\n"
   ]
  },
  {
   "cell_type": "code",
   "execution_count": null,
   "id": "be46a950",
   "metadata": {},
   "outputs": [],
   "source": []
  },
  {
   "cell_type": "code",
   "execution_count": null,
   "id": "3740c752",
   "metadata": {},
   "outputs": [],
   "source": []
  },
  {
   "cell_type": "markdown",
   "id": "6d546014",
   "metadata": {},
   "source": [
    "# <strong>Homework</strong>\n",
    "check out this Pokemon API https://pokeapi.co/\n",
    "Use the requests package to connect to this API and get and store data for 5 different pokemon.\n",
    "Get the pokemons: name, atleast one ability's name, base_experience, and the URL for its sprite (an image that shows up on screen) for the 'front_shiny', attack base_state, hp base_stat, defense base_stat"
   ]
  },
  {
   "cell_type": "raw",
   "id": "9e4ed491",
   "metadata": {},
   "source": [
    "import requests, json\n",
    "\n",
    "# pokemon = input('Please input your pokemon or a number! ')\n",
    "\n",
    "url = 'https://pokeapi.co/api/v2/pokemon/charizard'\n",
    "\n",
    "response = requests.get(url)\n",
    "if response.ok:\n",
    "    data = response.json()\n",
    "    poke = data['forms']['abilities'][0]['base_experience']['sprites']['stats']\n",
    "    my_list = []\n",
    "    for info in poke:\n",
    "        name = info[]\n",
    "        pokemon_ability = info[]\n",
    "        base_xp = info[]\n",
    "        shiny_pokemon = info[]\n",
    "        pokemon_stats = info[]\n",
    "        my_list.append(f'{name} has many abilities, this is the first one {pokemon_ability} also the {name} has a base_xp{base_xp}. Here is a picture of the {name}{shiny_pokemon}. Here are is {name} stats {pokemon_stats}!!')\n",
    "        print(my_list)\n",
    "else:\n",
    "    print('Try again')"
   ]
  },
  {
   "cell_type": "code",
   "execution_count": null,
   "id": "f0a63c86",
   "metadata": {},
   "outputs": [],
   "source": [
    "import requests, json\n",
    "\n",
    "# pokemon = input('Please input your pokemon or a number! ')\n",
    "\n",
    "url = 'https://pokeapi.co/api/v2/pokemon/charizard'\n",
    "\n",
    "response = requests.get(url)\n",
    "if response.ok:\n",
    "    data = response.json()\n",
    "    poke = data['forms']\n",
    "    my_list = []\n",
    "    for info in poke:\n",
    "        name = info['ability']['name']\n",
    "        # pokemon_ability = info[]\n",
    "        # base_xp = info['base_experience']\n",
    "        # shiny_pokemon = info[]\n",
    "        # pokemon_stats = info[]\n",
    "        my_list.append(name)\n",
    "        # my_list.append(f'{name} has many abilities, this is the first one {pokemon_ability} also the {name} has a base_xp{base_xp}. Here is a picture of the {name}{shiny_pokemon}. Here are is {name} stats {pokemon_stats}!!')\n",
    "        print(my_list)\n",
    "else:\n",
    "    print('Try again')"
   ]
  }
 ],
 "metadata": {
  "kernelspec": {
   "display_name": "Python 3",
   "language": "python",
   "name": "python3"
  },
  "language_info": {
   "codemirror_mode": {
    "name": "ipython",
    "version": 3
   },
   "file_extension": ".py",
   "mimetype": "text/x-python",
   "name": "python",
   "nbconvert_exporter": "python",
   "pygments_lexer": "ipython3",
   "version": "3.11.0"
  },
  "vscode": {
   "interpreter": {
    "hash": "5c3d43dc0cc8d902ea2a33410811695b4bd466e7382c41170424be53c4c85917"
   }
  }
 },
 "nbformat": 4,
 "nbformat_minor": 5
}
